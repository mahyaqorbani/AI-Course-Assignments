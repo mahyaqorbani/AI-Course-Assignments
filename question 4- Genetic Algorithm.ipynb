{
 "cells": [
  {
   "cell_type": "code",
   "execution_count": 7,
   "metadata": {},
   "outputs": [],
   "source": [
    "\"\"\"\n",
    "author: Mahya Qorbani\n",
    "Date: 3/22/2021\n",
    "\n",
    "\"\"\""
   ]
  },
  {
   "cell_type": "code",
   "execution_count": 1,
   "metadata": {},
   "outputs": [],
   "source": [
    "#inputs\n",
    "const =[]\n",
    "d = open(r\"E:\\file\\AI\\amali\\question 4\\input6.txt\")\n",
    "i=0\n",
    "for line in d:\n",
    "    stripped = line.strip().split()\n",
    "    if i == 0:\n",
    "        stripped = (list(map(int, stripped)))[0]\n",
    "        string_length = stripped\n",
    "    elif i == 1:\n",
    "        stripped = (list(map(int, stripped)))[0]\n",
    "        population_size = stripped\n",
    "    elif i == 2:\n",
    "        stripped = (list(map(int, stripped)))[0]\n",
    "        steps = stripped\n",
    "    elif i == 3:\n",
    "        sets = stripped\n",
    "    else:\n",
    "        const.append(stripped)\n",
    "    i+=1"
   ]
  },
  {
   "cell_type": "code",
   "execution_count": 126,
   "metadata": {},
   "outputs": [
    {
     "data": {
      "text/plain": [
       "[<matplotlib.lines.Line2D at 0x1a9e52bb340>]"
      ]
     },
     "execution_count": 126,
     "metadata": {},
     "output_type": "execute_result"
    },
    {
     "data": {
      "image/png": "[encoded data removed]",
      "text/plain": [
       "<Figure size 720x504 with 1 Axes>"
      ]
     },
     "metadata": {},
     "output_type": "display_data"
    }
   ],
   "source": [
    "#برای پیاده سازی الگوریتم اولیه، کد زیر را ران کنید.\n",
    "answer, y = GA_algorithm(steps, string_length, population_size, const, 0.01 )\n",
    "\n",
    "#برای پیاده سازی الگوریتم بهبود یافته، کد زیر را ران کنید.\n",
    "# answer, y = advanced_GA_algorithm(steps, string_length, population_size, const, 0.05 )\n",
    "\n",
    "\n",
    "import matplotlib.pyplot as plt\n",
    "plt.style.use('seaborn-whitegrid') \n",
    "plt.figure(figsize=(10,7))\n",
    "plt.title(\"Fitness Curve\")\n",
    "plt.xlabel(\"Iteration\")\n",
    "plt.ylabel(\"Fitness\")\n",
    "plt.plot(range(len(y)), y, color='#FFDD44', linewidth=2)\n",
    "plt.plot((len(y)), y[-1], color='green', marker='o', markersize=5, visible=True)"
   ]
  },
  {
   "cell_type": "code",
   "execution_count": null,
   "metadata": {},
   "outputs": [],
   "source": [
    "#TO STORE OUTPUT IN A TEXT FILE\n",
    "l = get_fitness(answer, const)\n",
    "i = l.index(max(l))\n",
    "\n",
    "text_file = open(r\"E:\\file\\AI\\amali\\question 4\\A6.txt\", \"w\")\n",
    "\n",
    "l = get_fitness(answer, const)\n",
    "i = l.index(max(l))\n",
    "\n",
    "text_file.write(str(answer[i]) + '\\n')\n",
    "#text_file.write(str(l[i]))\n",
    "\n",
    "text_file.close()"
   ]
  },
  {
   "cell_type": "code",
   "execution_count": 176,
   "metadata": {},
   "outputs": [],
   "source": [
    "def GA_algorithm(steps, string_length, population_size, const, mutation_prob ):\n",
    "    plot_y = []\n",
    "    #list of first guess\n",
    "    new_answer = generate_parent(string_length, population_size)\n",
    "    fitnesses = get_fitness(new_answer, const)\n",
    "    plot_y.append(max(fitnesses))\n",
    "    for k in range(0, steps):\n",
    "#         if k %100 ==0:\n",
    "#             print(max(fitnesses))\n",
    "        answer = new_answer.copy()\n",
    "        new_answer = []\n",
    "        for q in range(0, population_size):\n",
    "            #choose two parents\n",
    "            parents_keys = selection(answer, fitnesses)\n",
    "            #crossover\n",
    "            random_cross_point = random.randint(0, string_length)\n",
    "            new_parent = cross_over(parents_keys[0], parents_keys[1], random_cross_point)\n",
    "            #mutation for the produced child\n",
    "            new_parent = mutate(new_parent, sets, mutation_prob)\n",
    "            new_answer.append(new_parent)\n",
    "        #list of fitness\n",
    "        fitnesses = get_fitness(new_answer, const)\n",
    "        plot_y.append(max(fitnesses))\n",
    "    \n",
    "    return new_answer, plot_y"
   ]
  },
  {
   "cell_type": "code",
   "execution_count": 50,
   "metadata": {},
   "outputs": [],
   "source": [
    "#guess\n",
    "import random\n",
    "def generate_parent(length, number):\n",
    "    parents=[]\n",
    "    \n",
    "    for i in range(0,number):\n",
    "        DNA = random.choices(population = sets, k=length)\n",
    "        parents.append(''.join(DNA))\n",
    "\n",
    "    return parents"
   ]
  },
  {
   "cell_type": "code",
   "execution_count": 3,
   "metadata": {},
   "outputs": [],
   "source": [
    "#fitness\n",
    "import re\n",
    "def get_fitness(parents, const):\n",
    "    fitnesses = [0]*len(parents)\n",
    "    \n",
    "    for k in range(len(parents)):\n",
    "        for constraint in const:\n",
    "            fitnesses[k] += len(re.findall(constraint[0], parents[k])) * int(constraint[1])\n",
    "            \n",
    "    return fitnesses"
   ]
  },
  {
   "cell_type": "code",
   "execution_count": 52,
   "metadata": {},
   "outputs": [],
   "source": [
    "#selection -input is two lists of parents & their fitness\n",
    "from itertools import accumulate\n",
    "def selection(parents_keys, parents_values):\n",
    "    new_parents_keys = list()\n",
    "    cum_values = parents_values.copy()\n",
    "    n = min(cum_values)\n",
    "    if n<0:\n",
    "        cum_values = [i-n+1 for i in cum_values]\n",
    "    new_parents_keys = random.choices(population = parents_keys, weights = cum_values, k=2)\n",
    "    \n",
    "    return new_parents_keys"
   ]
  },
  {
   "cell_type": "code",
   "execution_count": 168,
   "metadata": {},
   "outputs": [],
   "source": [
    "#cross over\n",
    "def cross_over(parent1, parent2, crossover_point):\n",
    "    \n",
    "    newparent1 = parent2[0:crossover_point]+(parent1[crossover_point:])\n",
    "    \n",
    "    return newparent1"
   ]
  },
  {
   "cell_type": "code",
   "execution_count": 54,
   "metadata": {},
   "outputs": [],
   "source": [
    "#mutation\n",
    "def mutate(parent, Sets, mutation_prob):\n",
    "    rand = random.random()\n",
    "    j = list(parent)\n",
    "    childDNA = list()\n",
    "    childDNA = j.copy()    \n",
    "    if rand < mutation_prob:\n",
    "        index = random.randrange(0, len(parent))\n",
    "        alternate1, alternate2, alternate3 = random.sample(Sets, 3)\n",
    "        if childDNA[index] != str(alternate1):\n",
    "            childDNA[index] = str(alternate1)\n",
    "        elif childDNA[index] != str(alternate2):\n",
    "            childDNA[index] = str(alternate2)\n",
    "        else:\n",
    "            childDNA[index] = str(alternate3)\n",
    "            \n",
    "    return ''.join(childDNA)"
   ]
  },
  {
   "cell_type": "code",
   "execution_count": 177,
   "metadata": {},
   "outputs": [],
   "source": [
    "def advanced_GA_algorithm(steps, string_length, population_size, const, mutation_prob ):\n",
    "    plot_y = []\n",
    "    #list of first guess\n",
    "    new_answer = generate_parent(string_length, population_size)\n",
    "    fitnesses = get_fitness(new_answer, const)\n",
    "    plot_y.append(max(fitnesses))\n",
    "    for k in range(0, steps):\n",
    "        answer = new_answer.copy()\n",
    "        new_answer = []\n",
    "        for q in range(0, population_size):\n",
    "            #choose two parents\n",
    "            parents_keys = selection(answer, fitnesses)\n",
    "            #crossover\n",
    "            random_cross_point = random.randint(0, string_length)\n",
    "            new_parent = advanced_cross_over(parents_keys[0], parents_keys[1], random_cross_point)\n",
    "            #mutation for the produced child\n",
    "            new_parent = advanced_mutate(new_parent, sets, mutation_prob)\n",
    "            new_answer.append(new_parent)\n",
    "        #list of fitness\n",
    "        fitnesses = get_fitness(new_answer, const)\n",
    "        plot_y.append(max(fitnesses))\n",
    "    \n",
    "    return new_answer, plot_y"
   ]
  },
  {
   "cell_type": "code",
   "execution_count": 173,
   "metadata": {},
   "outputs": [],
   "source": [
    "#advanced crossover\n",
    "def advanced_cross_over(parent1, parent2, crossover_point):\n",
    "    \n",
    "    crossover_point2 = random.randint(crossover_point, len(parent1))\n",
    "    newparent1 = parent2[0:crossover_point]+(parent1[crossover_point:crossover_point2]) + (parent2[crossover_point2:])\n",
    "    \n",
    "    return newparent1"
   ]
  },
  {
   "cell_type": "code",
   "execution_count": 162,
   "metadata": {},
   "outputs": [],
   "source": [
    "#advanced mutation\n",
    "def advanced_mutate(parent, Sets, mutation_prob):\n",
    "    rand = random.random()\n",
    "    j = list(parent)\n",
    "    childDNA = list()\n",
    "    childDNA = j.copy()    \n",
    "    if rand < mutation_prob:\n",
    "        for i in range(0,6):\n",
    "            index = random.randrange(0, len(parent))\n",
    "            alternate1, alternate2, alternate3 = random.sample(Sets, 3)\n",
    "            if childDNA[index] != str(alternate1):\n",
    "                childDNA[index] = str(alternate1)\n",
    "            elif childDNA[index] != str(alternate2):\n",
    "                childDNA[index] = str(alternate2)\n",
    "            else:\n",
    "                childDNA[index] = str(alternate3)\n",
    "            \n",
    "    return ''.join(childDNA)\n"
   ]
  },
  {
   "cell_type": "code",
   "execution_count": null,
   "metadata": {},
   "outputs": [],
   "source": []
  }
 ],
 "metadata": {
  "kernelspec": {
   "display_name": "Python 3",
   "language": "python",
   "name": "python3"
  },
  "language_info": {
   "codemirror_mode": {
    "name": "ipython",
    "version": 3
   },
   "file_extension": ".py",
   "mimetype": "text/x-python",
   "name": "python",
   "nbconvert_exporter": "python",
   "pygments_lexer": "ipython3",
   "version": "3.8.3"
  }
 },
 "nbformat": 4,
 "nbformat_minor": 4
}
